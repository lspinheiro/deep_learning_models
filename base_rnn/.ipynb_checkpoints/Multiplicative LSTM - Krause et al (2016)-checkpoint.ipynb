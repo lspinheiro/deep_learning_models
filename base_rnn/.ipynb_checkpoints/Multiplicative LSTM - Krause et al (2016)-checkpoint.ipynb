{
 "cells": [
  {
   "cell_type": "code",
   "execution_count": 1,
   "metadata": {
    "collapsed": true
   },
   "outputs": [],
   "source": [
    "import time\n",
    "from collections import namedtuple\n",
    "import matplotlib.pyplot as plt\n",
    "import numpy as np\n",
    "import tensorflow as tf"
   ]
  },
  {
   "cell_type": "code",
   "execution_count": 2,
   "metadata": {
    "collapsed": true
   },
   "outputs": [],
   "source": [
    "from tensorflow.contrib.rnn.python.ops.core_rnn_cell import RNNCell"
   ]
  },
  {
   "cell_type": "code",
   "execution_count": 3,
   "metadata": {
    "collapsed": true
   },
   "outputs": [],
   "source": [
    "def orthogonal_initializer(scale=1.0):\n",
    "    def _initializer(shape, dtype=tf.float32):\n",
    "        flat_shape = (shape[0], np.prod(shape[1:]))\n",
    "        a = np.random.normal(0.0, 1.0, flat_shape)\n",
    "        u, _, v = np.linalg.svd(a, full_matrices=False)\n",
    "        q = u if u.shape == flat_shape else v\n",
    "        q = q.reshape(shape)\n",
    "        return tf.constant(scale * q[:shape[0], :shape[1]], dtype=tf.float32)\n",
    "    return _initializer"
   ]
  },
  {
   "cell_type": "code",
   "execution_count": 4,
   "metadata": {
    "collapsed": true
   },
   "outputs": [],
   "source": [
    "class MultiplicativeLSTMCell(RNNCell):\n",
    "    \"\"\"Multiplicative LSTM.\n",
    "       Ben Krause, Liang Lu, Iain Murray, and Steve Renals,\n",
    "       \"Multiplicative LSTM for sequence modelling, \"\n",
    "       in Workshop Track of ICLA 2017,\n",
    "       https://openreview.net/forum?id=SJCS5rXFl&noteId=SJCS5rXFl\n",
    "    \"\"\"\n",
    "\n",
    "    def __init__(self, num_units,\n",
    "                 cell_clip=None,\n",
    "                 initializer=orthogonal_initializer(),\n",
    "                 forget_bias=1.0,\n",
    "                 activation=tf.tanh):\n",
    "        \"\"\"Initialize the parameters for an LSTM cell.\n",
    "        Args:\n",
    "          num_units: int, The number of units in the LSTM cell.\n",
    "          use_peepholes: bool, set True to enable diagonal/peephole\n",
    "            connections.\n",
    "          cell_clip: (optional) A float value, if provided the cell state\n",
    "            is clipped by this value prior to the cell output activation.\n",
    "          initializer: (optional) The initializer to use for the weight\n",
    "            matrices.\n",
    "          forget_bias: Biases of the forget gate are initialized by default\n",
    "            to 1 in order to reduce the scale of forgetting at the beginning of\n",
    "            the training.\n",
    "          activation: Activation function of the inner states.\n",
    "        \"\"\"\n",
    "        self.num_units = num_units\n",
    "        self.cell_clip = cell_clip\n",
    "        self.initializer = initializer\n",
    "        self.forget_bias = forget_bias\n",
    "        self.activation = activation\n",
    "        self._state_size = tf.contrib.rnn.LSTMStateTuple(num_units, num_units)\n",
    "        self._output_size = num_units\n",
    "\n",
    "\n",
    "    @property\n",
    "    def state_size(self):\n",
    "        return self._state_size\n",
    "\n",
    "    @property\n",
    "    def output_size(self):\n",
    "        return self._output_size\n",
    "\n",
    "    def __call__(self, inputs, state, scope=None):\n",
    "\n",
    "        \n",
    "        (c_prev, h_prev) = state\n",
    "\n",
    "\n",
    "        dtype = inputs.dtype\n",
    "        input_size = inputs.get_shape().with_rank(2)[1]\n",
    "\n",
    "        with tf.variable_scope(scope or type(self).__name__):\n",
    "            \n",
    "            # Linear calculates eq.18 components\n",
    "            with tf.variable_scope(\"Multipli_Weight\"):\n",
    "                concat = _linear([inputs, h_prev], 2 * self.num_units, True)\n",
    "                \n",
    "            Wmx_xt, Wmh_hprev = tf.split(concat, 2, 1)\n",
    "            m = Wmx_xt * Wmh_hprev  # equation (18)\n",
    "\n",
    "            with tf.variable_scope(\"LSTM_Weight\"):\n",
    "                lstm_matrix = _linear([inputs, m], 4 * self.num_units, True)\n",
    "            i, h_hat, f, o = tf.split(lstm_matrix, 4, 1)\n",
    "            \n",
    "            c = c_prev * tf.sigmoid(f + self.forget_bias) + \\\n",
    "                tf.sigmoid(i) * h_hat\n",
    "\n",
    "            h = self.activation(c * tf.sigmoid(o))\n",
    "\n",
    "\n",
    "            new_state = tf.contrib.rnn.LSTMStateTuple(c, h)\n",
    "            \n",
    "\n",
    "            return h, new_state\n",
    "\n",
    "\n",
    "def _linear(args, output_size, bias, bias_start=0.0, scope=None):\n",
    "    \"\"\"Linear map: sum_i(args[i] * W[i]), where W[i] is a variable.\n",
    "    Args:\n",
    "      args: a 2D Tensor or a list of 2D, batch x n, Tensors.\n",
    "      output_size: int, second dimension of W[i].\n",
    "      bias: boolean, whether to add a bias term or not.\n",
    "      bias_start: starting value to initialize the bias; 0 by default.\n",
    "      scope: VariableScope for the created subgraph; defaults to \"Linear\".\n",
    "    Returns:\n",
    "      A 2D Tensor with shape [batch x output_size] equal to\n",
    "      sum_i(args[i] * W[i]), where W[i]s are newly created matrices.\n",
    "    Raises:\n",
    "      ValueError: if some of the arguments has unspecified or wrong shape.\n",
    "    \"\"\"\n",
    "\n",
    "    # Calculate the total size of arguments on dimension 1.\n",
    "    total_arg_size = 0\n",
    "    shapes = [a.get_shape().as_list() for a in args]\n",
    "    for shape in shapes:\n",
    "            total_arg_size += shape[1]\n",
    "\n",
    "    # Now the computation.\n",
    "    with tf.variable_scope(scope or \"Linear\"):\n",
    "        matrix = tf.get_variable(\"Matrix\", [total_arg_size, output_size])\n",
    "        \n",
    "        res = tf.matmul(tf.concat(args,1), matrix)\n",
    "        \n",
    "        if not bias:\n",
    "            return res\n",
    "        \n",
    "        bias_term = tf.get_variable(\n",
    "            \"Bias\", [output_size],\n",
    "            initializer=tf.constant_initializer(bias_start))\n",
    "    return res + bias_term"
   ]
  },
  {
   "cell_type": "code",
   "execution_count": 5,
   "metadata": {
    "collapsed": false
   },
   "outputs": [],
   "source": [
    "#lstm_cell = MultiplicativeLSTMCell(256, forget_bias=1.0)"
   ]
  },
  {
   "cell_type": "markdown",
   "metadata": {},
   "source": [
    "###  Test"
   ]
  },
  {
   "cell_type": "code",
   "execution_count": 6,
   "metadata": {
    "collapsed": false
   },
   "outputs": [],
   "source": [
    "# data set of anna karenatina\n",
    "with open(r'./data/anna.txt', 'r') as f:\n",
    "    text=f.read()\n",
    "vocab = set(text)\n",
    "vocab_to_int = {c: i for i, c in enumerate(vocab)}\n",
    "int_to_vocab = dict(enumerate(vocab))\n",
    "encoded = np.array([vocab_to_int[c] for c in text], dtype=np.int32)"
   ]
  },
  {
   "cell_type": "code",
   "execution_count": 7,
   "metadata": {
    "collapsed": true
   },
   "outputs": [],
   "source": [
    "def get_batches(arr, n_seqs, n_steps):\n",
    "    '''Create a generator that returns batches of size\n",
    "       n_seqs x n_steps from arr.\n",
    "       \n",
    "       Arguments\n",
    "       ---------\n",
    "       arr: Array you want to make batches from\n",
    "       n_seqs: Batch size, the number of sequences per batch\n",
    "       n_steps: Number of sequence steps per batch\n",
    "    '''\n",
    "    characters_per_batch = n_seqs * n_steps\n",
    "    n_batches = len(arr)//characters_per_batch\n",
    "    \n",
    "    arr = arr[:n_batches * characters_per_batch]\n",
    "    arr = arr.reshape((n_seqs, -1))\n",
    "    \n",
    "    for n in range(0, arr.shape[1], n_steps):\n",
    "        x = arr[:, n:n+n_steps]\n",
    "        y = np.zeros_like(x)\n",
    "        y[:, :-1], y[:, -1] = x[:, 1:], x[:, 0]\n",
    "        yield x, y"
   ]
  },
  {
   "cell_type": "code",
   "execution_count": 8,
   "metadata": {
    "collapsed": false
   },
   "outputs": [
    {
     "data": {
      "text/plain": [
       "'1.0.0'"
      ]
     },
     "execution_count": 8,
     "metadata": {},
     "output_type": "execute_result"
    }
   ],
   "source": [
    "tf.__version__"
   ]
  },
  {
   "cell_type": "code",
   "execution_count": 9,
   "metadata": {
    "collapsed": false
   },
   "outputs": [],
   "source": [
    "batch_size = 100\n",
    "num_steps = 50\n",
    "lstm_size = 256\n",
    "num_layers = 1\n",
    "num_classes = len(vocab)\n",
    "learning_rate = 1e-3\n",
    "grad_clip = 5\n",
    "keep_prob_val = 0.5"
   ]
  },
  {
   "cell_type": "code",
   "execution_count": 10,
   "metadata": {
    "collapsed": false
   },
   "outputs": [],
   "source": [
    "#lstm_graph = tf.Graph()\n",
    "\n",
    "#with lstm_graph.as_default():\n",
    "tf.reset_default_graph()\n",
    "\n",
    "inputs = tf.placeholder(tf.int32, [batch_size, num_steps], name='inputs')\n",
    "targets = tf.placeholder(tf.int32, [batch_size, num_steps], name='targets')\n",
    "\n",
    "keep_prob = tf.placeholder(tf.float32, name='keep_prob')\n",
    "\n",
    "cells = [tf.contrib.rnn.DropoutWrapper(\n",
    "    tf.contrib.rnn.BasicLSTMCell(lstm_size), output_keep_prob=keep_prob) for _ in range(num_layers)]\n",
    "# Stack up multiple LSTM layers, for deep learning\n",
    "cell = tf.contrib.rnn.MultiRNNCell(cells)\n",
    "initial_state = cell.zero_state(batch_size, tf.float32)\n",
    "\n",
    "x_one_hot = tf.one_hot(inputs, num_classes)\n",
    "outputs, state = tf.nn.dynamic_rnn(cell, x_one_hot, initial_state=initial_state)\n",
    "final_state = state\n",
    "\n",
    "seq_output = tf.concat(outputs, axis=1)\n",
    "x = tf.reshape(seq_output, [-1, lstm_size])\n",
    "\n",
    "# Connect the RNN outputs to a softmax layer\n",
    "with tf.variable_scope('softmax'):\n",
    "    softmax_w = tf.Variable(tf.truncated_normal((lstm_size, num_classes), stddev=0.1))\n",
    "    softmax_b = tf.Variable(tf.zeros(num_classes))\n",
    "\n",
    "# Since output is a bunch of rows of RNN cell outputs, logits will be a bunch\n",
    "# of rows of logit outputs, one for each step and sequence\n",
    "logits = tf.matmul(x, softmax_w) + softmax_b\n",
    "\n",
    "# Use softmax to get the probabilities for predicted characters\n",
    "out = tf.nn.softmax(logits, name='predictions')\n",
    "\n",
    "y_one_hot = tf.one_hot(targets, num_classes)\n",
    "y_reshaped = tf.reshape(y_one_hot, logits.get_shape())\n",
    "\n",
    "loss = tf.nn.softmax_cross_entropy_with_logits(logits=logits, labels=y_reshaped)\n",
    "loss=tf.reduce_mean(loss)\n",
    "\n",
    "trainables = tf.trainable_variables()\n",
    "grads, _ = tf.clip_by_global_norm(tf.gradients(loss, trainables), grad_clip)\n",
    "train_op = tf.train.AdamOptimizer(learning_rate)\n",
    "\n",
    "optimizer = train_op.apply_gradients(list(zip(grads, trainables)))"
   ]
  },
  {
   "cell_type": "code",
   "execution_count": 11,
   "metadata": {
    "collapsed": false
   },
   "outputs": [
    {
     "name": "stderr",
     "output_type": "stream",
     "text": [
      "A subdirectory or file checkpoints already exists.\n"
     ]
    }
   ],
   "source": [
    "!mkdir checkpoints"
   ]
  },
  {
   "cell_type": "code",
   "execution_count": 12,
   "metadata": {
    "collapsed": false
   },
   "outputs": [
    {
     "name": "stdout",
     "output_type": "stream",
     "text": [
      "Epoch: 1/25...  Training Step: 397...  Training loss: 2.3444...  0.3252 sec/batch\n",
      "Epoch: 2/25...  Training Step: 794...  Training loss: 2.1258...  0.3292 sec/batch\n",
      "Epoch: 3/25...  Training Step: 1191...  Training loss: 1.9859...  0.3837 sec/batch\n",
      "Epoch: 4/25...  Training Step: 1588...  Training loss: 1.8957...  0.3547 sec/batch\n",
      "Epoch: 5/25...  Training Step: 1985...  Training loss: 1.8158...  0.3482 sec/batch\n",
      "Epoch: 6/25...  Training Step: 2382...  Training loss: 1.7633...  0.3197 sec/batch\n",
      "Epoch: 7/25...  Training Step: 2779...  Training loss: 1.7307...  0.3305 sec/batch\n",
      "Epoch: 8/25...  Training Step: 3176...  Training loss: 1.6854...  0.3434 sec/batch\n",
      "Epoch: 9/25...  Training Step: 3573...  Training loss: 1.6625...  0.4337 sec/batch\n",
      "Epoch: 10/25...  Training Step: 3970...  Training loss: 1.6045...  0.3757 sec/batch\n",
      "Epoch: 11/25...  Training Step: 4367...  Training loss: 1.5995...  0.3567 sec/batch\n",
      "Epoch: 12/25...  Training Step: 4764...  Training loss: 1.5736...  0.3479 sec/batch\n",
      "Epoch: 13/25...  Training Step: 5161...  Training loss: 1.5664...  0.5223 sec/batch\n",
      "Epoch: 14/25...  Training Step: 5558...  Training loss: 1.5441...  0.3507 sec/batch\n",
      "Epoch: 15/25...  Training Step: 5955...  Training loss: 1.5446...  0.3327 sec/batch\n",
      "Epoch: 16/25...  Training Step: 6352...  Training loss: 1.5264...  0.3143 sec/batch\n",
      "Epoch: 17/25...  Training Step: 6749...  Training loss: 1.5192...  0.3222 sec/batch\n",
      "Epoch: 18/25...  Training Step: 7146...  Training loss: 1.4891...  0.3232 sec/batch\n",
      "Epoch: 19/25...  Training Step: 7543...  Training loss: 1.4876...  0.3362 sec/batch\n",
      "Epoch: 20/25...  Training Step: 7940...  Training loss: 1.4734...  0.3177 sec/batch\n",
      "Epoch: 21/25...  Training Step: 8337...  Training loss: 1.4654...  0.3142 sec/batch\n",
      "Epoch: 22/25...  Training Step: 8734...  Training loss: 1.4485...  0.3142 sec/batch\n",
      "Epoch: 23/25...  Training Step: 9131...  Training loss: 1.4501...  0.3142 sec/batch\n",
      "Epoch: 24/25...  Training Step: 9528...  Training loss: 1.4325...  0.3130 sec/batch\n",
      "Epoch: 25/25...  Training Step: 9925...  Training loss: 1.4356...  0.3162 sec/batch\n"
     ]
    }
   ],
   "source": [
    "epochs = 25\n",
    "save_every_n = 5000\n",
    "results = []\n",
    "\n",
    "saver = tf.train.Saver()\n",
    "with tf.Session() as sess:\n",
    "    sess.run(tf.global_variables_initializer())\n",
    "    \n",
    "    counter = 0\n",
    "    for e in range(epochs):\n",
    "        new_state = sess.run(initial_state)\n",
    "        \n",
    "        loss_ = 0\n",
    "        \n",
    "        for x_, y_ in get_batches(encoded, batch_size, num_steps):\n",
    "            counter += 1\n",
    "            start = time.time()\n",
    "            feed = {inputs: x_,\n",
    "                    targets: y_,\n",
    "                    keep_prob: keep_prob_val,\n",
    "                    initial_state: new_state}\n",
    "            \n",
    "            \n",
    "            batch_loss, new_state, _ = sess.run([loss, \n",
    "                                                 final_state, \n",
    "                                                 optimizer], \n",
    "                                                 feed_dict=feed)\n",
    "            \n",
    "            end = time.time()\n",
    "            \n",
    "            loss_ += batch_loss\n",
    "            \n",
    "            if (counter % save_every_n == 0):\n",
    "                saver.save(sess, \"checkpoints/i{}_l{}.ckpt\".format(counter, lstm_size))\n",
    "                \n",
    "        print('Epoch: {}/{}... '.format(e+1, epochs),\n",
    "                  'Training Step: {}... '.format(counter),\n",
    "                  'Training loss: {:.4f}... '.format(batch_loss),\n",
    "                  '{:.4f} sec/batch'.format((end-start)))\n",
    "        \n",
    "        results.append(loss_)\n",
    "    saver.save(sess, \"checkpoints/i{}_l{}.ckpt\".format(counter, lstm_size))"
   ]
  },
  {
   "cell_type": "code",
   "execution_count": 13,
   "metadata": {
    "collapsed": false
   },
   "outputs": [],
   "source": [
    "#lstm_graph = tf.Graph()\n",
    "\n",
    "#with lstm_graph.as_default():\n",
    "tf.reset_default_graph()\n",
    "\n",
    "inputs = tf.placeholder(tf.int32, [batch_size, num_steps], name='inputs')\n",
    "targets = tf.placeholder(tf.int32, [batch_size, num_steps], name='targets')\n",
    "\n",
    "keep_prob = tf.placeholder(tf.float32, name='keep_prob')\n",
    "\n",
    "cells = [tf.contrib.rnn.DropoutWrapper(\n",
    "    MultiplicativeLSTMCell(lstm_size, forget_bias=1.0), output_keep_prob=keep_prob) for _ in range(num_layers)]\n",
    "# Stack up multiple LSTM layers, for deep learning\n",
    "cell = tf.contrib.rnn.MultiRNNCell(cells)\n",
    "initial_state = cell.zero_state(batch_size, tf.float32)\n",
    "\n",
    "x_one_hot = tf.one_hot(inputs, num_classes)\n",
    "outputs, state = tf.nn.dynamic_rnn(cell, x_one_hot, initial_state=initial_state)\n",
    "final_state = state\n",
    "\n",
    "seq_output = tf.concat(outputs, axis=1)\n",
    "x = tf.reshape(seq_output, [-1, lstm_size])\n",
    "\n",
    "# Connect the RNN outputs to a softmax layer\n",
    "with tf.variable_scope('softmax'):\n",
    "    softmax_w = tf.Variable(tf.truncated_normal((lstm_size, num_classes), stddev=0.1))\n",
    "    softmax_b = tf.Variable(tf.zeros(num_classes))\n",
    "\n",
    "# Since output is a bunch of rows of RNN cell outputs, logits will be a bunch\n",
    "# of rows of logit outputs, one for each step and sequence\n",
    "logits = tf.matmul(x, softmax_w) + softmax_b\n",
    "\n",
    "# Use softmax to get the probabilities for predicted characters\n",
    "out = tf.nn.softmax(logits, name='predictions')\n",
    "\n",
    "y_one_hot = tf.one_hot(targets, num_classes)\n",
    "y_reshaped = tf.reshape(y_one_hot, logits.get_shape())\n",
    "\n",
    "loss = tf.nn.softmax_cross_entropy_with_logits(logits=logits, labels=y_reshaped)\n",
    "loss=tf.reduce_mean(loss)\n",
    "\n",
    "trainables = tf.trainable_variables()\n",
    "grads, _ = tf.clip_by_global_norm(tf.gradients(loss, trainables), grad_clip)\n",
    "train_op = tf.train.AdamOptimizer(learning_rate)\n",
    "\n",
    "optimizer = train_op.apply_gradients(list(zip(grads, trainables)))"
   ]
  },
  {
   "cell_type": "code",
   "execution_count": 14,
   "metadata": {
    "collapsed": false
   },
   "outputs": [
    {
     "name": "stdout",
     "output_type": "stream",
     "text": [
      "Epoch: 1/25...  Training Step: 397...  Training loss: 2.0938...  0.4903 sec/batch\n",
      "Epoch: 2/25...  Training Step: 794...  Training loss: 1.7931...  0.4483 sec/batch\n",
      "Epoch: 3/25...  Training Step: 1191...  Training loss: 1.6816...  0.4533 sec/batch\n",
      "Epoch: 4/25...  Training Step: 1588...  Training loss: 1.5965...  0.4758 sec/batch\n",
      "Epoch: 5/25...  Training Step: 1985...  Training loss: 1.5512...  0.4523 sec/batch\n",
      "Epoch: 6/25...  Training Step: 2382...  Training loss: 1.5200...  0.4494 sec/batch\n",
      "Epoch: 7/25...  Training Step: 2779...  Training loss: 1.4823...  0.4573 sec/batch\n",
      "Epoch: 8/25...  Training Step: 3176...  Training loss: 1.4648...  0.5168 sec/batch\n",
      "Epoch: 9/25...  Training Step: 3573...  Training loss: 1.4504...  0.5286 sec/batch\n",
      "Epoch: 10/25...  Training Step: 3970...  Training loss: 1.4176...  0.4658 sec/batch\n",
      "Epoch: 11/25...  Training Step: 4367...  Training loss: 1.4069...  0.4498 sec/batch\n",
      "Epoch: 12/25...  Training Step: 4764...  Training loss: 1.3961...  0.4578 sec/batch\n",
      "Epoch: 13/25...  Training Step: 5161...  Training loss: 1.3822...  0.4602 sec/batch\n",
      "Epoch: 14/25...  Training Step: 5558...  Training loss: 1.3875...  0.4598 sec/batch\n",
      "Epoch: 15/25...  Training Step: 5955...  Training loss: 1.3682...  0.4598 sec/batch\n",
      "Epoch: 16/25...  Training Step: 6352...  Training loss: 1.3582...  0.4493 sec/batch\n",
      "Epoch: 17/25...  Training Step: 6749...  Training loss: 1.3535...  0.4893 sec/batch\n",
      "Epoch: 18/25...  Training Step: 7146...  Training loss: 1.3412...  0.4858 sec/batch\n",
      "Epoch: 19/25...  Training Step: 7543...  Training loss: 1.3511...  0.4608 sec/batch\n",
      "Epoch: 20/25...  Training Step: 7940...  Training loss: 1.3380...  0.4558 sec/batch\n",
      "Epoch: 21/25...  Training Step: 8337...  Training loss: 1.3247...  0.4963 sec/batch\n",
      "Epoch: 22/25...  Training Step: 8734...  Training loss: 1.3246...  0.5498 sec/batch\n",
      "Epoch: 23/25...  Training Step: 9131...  Training loss: 1.3397...  0.4588 sec/batch\n",
      "Epoch: 24/25...  Training Step: 9528...  Training loss: 1.3357...  0.4443 sec/batch\n",
      "Epoch: 25/25...  Training Step: 9925...  Training loss: 1.3131...  0.4381 sec/batch\n"
     ]
    }
   ],
   "source": [
    "epochs = 25\n",
    "save_every_n = 5000\n",
    "results2 = []\n",
    "saver2 = tf.train.Saver()\n",
    "with tf.Session() as sess:\n",
    "    sess.run(tf.global_variables_initializer())\n",
    "    \n",
    "    counter = 0\n",
    "    for e in range(epochs):\n",
    "        new_state = sess.run(initial_state)\n",
    "        \n",
    "        loss_ = 0\n",
    "        \n",
    "        for x_, y_ in get_batches(encoded, batch_size, num_steps):\n",
    "            counter += 1\n",
    "            start = time.time()\n",
    "            feed = {inputs: x_,\n",
    "                    targets: y_,\n",
    "                    keep_prob: keep_prob_val,\n",
    "                    initial_state: new_state}\n",
    "            \n",
    "            \n",
    "            batch_loss, new_state, _ = sess.run([loss, \n",
    "                                                 final_state, \n",
    "                                                 optimizer], \n",
    "                                                 feed_dict=feed)\n",
    "            \n",
    "            end = time.time()\n",
    "            \n",
    "            loss_ += batch_loss\n",
    "            \n",
    "            if (counter % save_every_n == 0):\n",
    "                saver2.save(sess, \"checkpoints/i{}_l2{}.ckpt\".format(counter, lstm_size))\n",
    "                \n",
    "        print('Epoch: {}/{}... '.format(e+1, epochs),\n",
    "                  'Training Step: {}... '.format(counter),\n",
    "                  'Training loss: {:.4f}... '.format(batch_loss),\n",
    "                  '{:.4f} sec/batch'.format((end-start)))\n",
    "        \n",
    "        results2.append(loss_)\n",
    "    saver2.save(sess, \"checkpoints/i{}_l2{}.ckpt\".format(counter, lstm_size))"
   ]
  },
  {
   "cell_type": "code",
   "execution_count": 15,
   "metadata": {
    "collapsed": true
   },
   "outputs": [
    {
     "data": {
      "text/plain": [
       "[1076.8895843029022,\n",
       " 870.38367462158203,\n",
       " 800.38399612903595,\n",
       " 754.13296639919281,\n",
       " 721.56226825714111,\n",
       " 697.61929440498352,\n",
       " 678.00555562973022,\n",
       " 662.76907873153687,\n",
       " 649.42015266418457,\n",
       " 638.54171276092529,\n",
       " 629.03574192523956,\n",
       " 621.11004137992859,\n",
       " 614.07727479934692,\n",
       " 607.66338276863098,\n",
       " 602.24304783344269,\n",
       " 597.23441636562347,\n",
       " 592.83621287345886,\n",
       " 588.66394603252411,\n",
       " 584.89007687568665,\n",
       " 581.22994518280029,\n",
       " 578.14372253417969,\n",
       " 575.35523223876953,\n",
       " 572.53971683979034,\n",
       " 570.06412816047668,\n",
       " 567.7631756067276]"
      ]
     },
     "execution_count": 15,
     "metadata": {},
     "output_type": "execute_result"
    }
   ],
   "source": [
    "results"
   ]
  },
  {
   "cell_type": "code",
   "execution_count": 16,
   "metadata": {
    "collapsed": true
   },
   "outputs": [
    {
     "data": {
      "text/plain": [
       "[1074.1696040630341,\n",
       " 746.16871809959412,\n",
       " 670.88928365707397,\n",
       " 634.63679254055023,\n",
       " 611.99614286422729,\n",
       " 595.69338572025299,\n",
       " 583.82526481151581,\n",
       " 574.38460981845856,\n",
       " 566.94909691810608,\n",
       " 560.59246373176575,\n",
       " 555.20144510269165,\n",
       " 551.11599862575531,\n",
       " 546.76060116291046,\n",
       " 543.49407756328583,\n",
       " 540.06147921085358,\n",
       " 537.52483952045441,\n",
       " 534.84251403808594,\n",
       " 532.77949571609497,\n",
       " 530.3532702922821,\n",
       " 528.18799161911011,\n",
       " 526.55762624740601,\n",
       " 525.02560544013977,\n",
       " 523.29532492160797,\n",
       " 521.60405540466309,\n",
       " 520.64947390556335]"
      ]
     },
     "execution_count": 16,
     "metadata": {},
     "output_type": "execute_result"
    }
   ],
   "source": [
    "results2"
   ]
  },
  {
   "cell_type": "code",
   "execution_count": 17,
   "metadata": {
    "collapsed": false
   },
   "outputs": [
    {
     "data": {
      "image/png": "[encoded data removed]",
      "text/plain": [
       "<matplotlib.figure.Figure at 0x2751465f6a0>"
      ]
     },
     "metadata": {},
     "output_type": "display_data"
    }
   ],
   "source": [
    "plt.close()\n",
    "fig, ax = plt.subplots()\n",
    "p1,=ax.plot(list(range(len(results))), results, label='LSTM')\n",
    "p2,=ax.plot(list(range(len(results2))), results2, label='mLSTM')\n",
    "ax.legend(handles=[p1,p2])\n",
    "plt.show()"
   ]
  },
  {
   "cell_type": "code",
   "execution_count": null,
   "metadata": {
    "collapsed": true
   },
   "outputs": [],
   "source": []
  }
 ],
 "metadata": {
  "anaconda-cloud": {},
  "kernelspec": {
   "display_name": "Python [default]",
   "language": "python",
   "name": "python3"
  },
  "language_info": {
   "codemirror_mode": {
    "name": "ipython",
    "version": 3
   },
   "file_extension": ".py",
   "mimetype": "text/x-python",
   "name": "python",
   "nbconvert_exporter": "python",
   "pygments_lexer": "ipython3",
   "version": "3.5.3"
  }
 },
 "nbformat": 4,
 "nbformat_minor": 2
}
